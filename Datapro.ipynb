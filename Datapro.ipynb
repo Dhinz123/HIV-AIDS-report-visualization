{
 "cells": [
  {
   "cell_type": "code",
   "execution_count": 1,
   "id": "f7cc7f3f",
   "metadata": {},
   "outputs": [],
   "source": [
    "import pandas as pd\n",
    "import seaborn as sns"
   ]
  },
  {
   "cell_type": "code",
   "execution_count": 5,
   "id": "d481b215",
   "metadata": {},
   "outputs": [
    {
     "data": {
      "text/html": [
       "<div>\n",
       "<style scoped>\n",
       "    .dataframe tbody tr th:only-of-type {\n",
       "        vertical-align: middle;\n",
       "    }\n",
       "\n",
       "    .dataframe tbody tr th {\n",
       "        vertical-align: top;\n",
       "    }\n",
       "\n",
       "    .dataframe thead th {\n",
       "        text-align: right;\n",
       "    }\n",
       "</style>\n",
       "<table border=\"1\" class=\"dataframe\">\n",
       "  <thead>\n",
       "    <tr style=\"text-align: right;\">\n",
       "      <th></th>\n",
       "      <th>Variable</th>\n",
       "      <th>Measure</th>\n",
       "      <th>Country</th>\n",
       "      <th>Year</th>\n",
       "      <th>Value</th>\n",
       "    </tr>\n",
       "  </thead>\n",
       "  <tbody>\n",
       "    <tr>\n",
       "      <th>0</th>\n",
       "      <td>HIV-AIDS</td>\n",
       "      <td>Number of female deaths</td>\n",
       "      <td>Spain</td>\n",
       "      <td>2000</td>\n",
       "      <td>320</td>\n",
       "    </tr>\n",
       "    <tr>\n",
       "      <th>1</th>\n",
       "      <td>HIV-AIDS</td>\n",
       "      <td>Number of female deaths</td>\n",
       "      <td>Spain</td>\n",
       "      <td>2001</td>\n",
       "      <td>336</td>\n",
       "    </tr>\n",
       "    <tr>\n",
       "      <th>2</th>\n",
       "      <td>HIV-AIDS</td>\n",
       "      <td>Number of female deaths</td>\n",
       "      <td>Spain</td>\n",
       "      <td>2002</td>\n",
       "      <td>294</td>\n",
       "    </tr>\n",
       "    <tr>\n",
       "      <th>3</th>\n",
       "      <td>HIV-AIDS</td>\n",
       "      <td>Number of female deaths</td>\n",
       "      <td>Spain</td>\n",
       "      <td>2003</td>\n",
       "      <td>343</td>\n",
       "    </tr>\n",
       "    <tr>\n",
       "      <th>4</th>\n",
       "      <td>HIV-AIDS</td>\n",
       "      <td>Number of female deaths</td>\n",
       "      <td>Spain</td>\n",
       "      <td>2004</td>\n",
       "      <td>280</td>\n",
       "    </tr>\n",
       "  </tbody>\n",
       "</table>\n",
       "</div>"
      ],
      "text/plain": [
       "   Variable                  Measure Country  Year  Value\n",
       "0  HIV-AIDS  Number of female deaths   Spain  2000    320\n",
       "1  HIV-AIDS  Number of female deaths   Spain  2001    336\n",
       "2  HIV-AIDS  Number of female deaths   Spain  2002    294\n",
       "3  HIV-AIDS  Number of female deaths   Spain  2003    343\n",
       "4  HIV-AIDS  Number of female deaths   Spain  2004    280"
      ]
     },
     "execution_count": 5,
     "metadata": {},
     "output_type": "execute_result"
    }
   ],
   "source": [
    "health_set = pd.read_csv('Health.csv')\n",
    "health_set.head()"
   ]
  },
  {
   "cell_type": "code",
   "execution_count": 9,
   "id": "3b9c9cdc",
   "metadata": {},
   "outputs": [
    {
     "data": {
      "text/plain": [
       "<AxesSubplot:xlabel='Year', ylabel='Value'>"
      ]
     },
     "execution_count": 9,
     "metadata": {},
     "output_type": "execute_result"
    },
    {
     "data": {
      "image/png": "[encoded data removed]",
      "text/plain": [
       "<Figure size 432x288 with 1 Axes>"
      ]
     },
     "metadata": {
      "needs_background": "light"
     },
     "output_type": "display_data"
    }
   ],
   "source": [
    "sns.lineplot(x=\"Year\", y=\"Value\", hue=\"Measure\", data=health_set)"
   ]
  },
  {
   "cell_type": "code",
   "execution_count": null,
   "id": "423df1b2",
   "metadata": {},
   "outputs": [],
   "source": []
  },
  {
   "cell_type": "code",
   "execution_count": null,
   "id": "8447231e",
   "metadata": {},
   "outputs": [],
   "source": []
  }
 ],
 "metadata": {
  "kernelspec": {
   "display_name": "Python 3",
   "language": "python",
   "name": "python3"
  },
  "language_info": {
   "codemirror_mode": {
    "name": "ipython",
    "version": 3
   },
   "file_extension": ".py",
   "mimetype": "text/x-python",
   "name": "python",
   "nbconvert_exporter": "python",
   "pygments_lexer": "ipython3",
   "version": "3.8.8"
  }
 },
 "nbformat": 4,
 "nbformat_minor": 5
}
